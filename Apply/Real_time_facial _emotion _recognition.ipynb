{
 "cells": [
  {
   "cell_type": "markdown",
   "metadata": {},
   "source": [
    "# 导库"
   ]
  },
  {
   "cell_type": "code",
   "execution_count": 1,
   "metadata": {},
   "outputs": [
    {
     "name": "stderr",
     "output_type": "stream",
     "text": [
      "Using TensorFlow backend.\n"
     ]
    }
   ],
   "source": [
    "# 图像采集和处理库\n",
    "import cv2    #OpenCV库\n",
    "import imutils #配合OpenCV\n",
    "import numpy as np\n",
    "from keras.preprocessing.image import img_to_array # 图片转化成数组\n",
    "\n",
    "# 加载模型所需库\n",
    "from keras.models import load_model\n",
    "from keras.utils.generic_utils import get_custom_objects\n",
    "from keras import backend as K\n",
    "from keras.layers import Activation"
   ]
  },
  {
   "cell_type": "code",
   "execution_count": 2,
   "metadata": {},
   "outputs": [],
   "source": [
    "# 加载数据和图像的参数\n",
    "emotion_model_path = '../Models/改进模型2.h5' # 预训练模型\n",
    "detection_model_path = '../Haarcascade/haarcascade_frontalface_default.xml' # 人脸Haar特征分类器\n",
    "EMOTIONS = [\"Angry\" ,\"Disgust\",\"Fear\", \"Happy\", \"Sad\", \"Surprise\",\"Neutral\"] # 情绪类别\n",
    "\n",
    "# 加载模型、建立人脸检测器\n",
    "face_detection = cv2.CascadeClassifier(detection_model_path) # 人脸检测的一个级联分类器\n",
    "emotion_classifier = load_model(emotion_model_path, compile=False) # 加载预训练模型"
   ]
  },
  {
   "cell_type": "markdown",
   "metadata": {},
   "source": [
    "# 实时的人脸情绪识别"
   ]
  },
  {
   "cell_type": "code",
   "execution_count": null,
   "metadata": {
    "scrolled": true
   },
   "outputs": [],
   "source": [
    "# 打开笔记本摄像头\n",
    "video_capture = cv2.VideoCapture(0)\n",
    "\n",
    "while True:\n",
    "    # 逐帧捕捉\n",
    "    ret, frame = video_capture.read()\n",
    "\n",
    "    i = 0 # 人脸计数\n",
    "    gray = cv2.cvtColor(frame, cv2.COLOR_BGR2GRAY) # 颜色空间转换，灰度图\n",
    "    \n",
    "    # 检测出图片中所有的人脸，并将人脸用faces保存各个人脸的坐标、大小（用矩形表示），函数由分类器对象调用\n",
    "    \n",
    "    faces = face_detection.detectMultiScale(gray,               # 捕获的图像经过灰度处理后的数据\n",
    "                                            scaleFactor=1.3,    # 每次图像尺寸减小的比例\n",
    "                                            minNeighbors=5,     # 每一个目标至少要被检测到5次才算是真的目标\n",
    "                                            minSize=(48,48),    # 目标的最小尺寸\n",
    "                                            flags=cv2.CASCADE_SCALE_IMAGE) # 函数不进行分类器缩放，而是缩放图像进行检测\n",
    "\n",
    "#     if len(faces) > 0:\n",
    "#         faces = sorted(faces, reverse=True, key=lambda x: (x[2] - x[0]) * (x[3] - x[1]))[0] \n",
    "\n",
    "    # 多人脸识别\n",
    "    for (x, y, w, h) in faces:\n",
    "        #人脸坐标：x,y，矩形宽高：w，h\n",
    "#             (x, y, w, h) = faces\n",
    "\n",
    "        #从灰度图像中提取人脸的面部关键点，将其调整为固定的48*48像素（预训练模型形状）\n",
    "        facial = gray[y:y + h, x:x + w]\n",
    "        facial = cv2.resize(facial, (48, 48))\n",
    "        facial = facial.astype(\"float\") / 255.0\n",
    "        facial = img_to_array(facial, data_format=\"channels_first\")#data_format=\"channels_first\"\n",
    "        facial = np.expand_dims(facial, axis=0)\n",
    "#         print(facial)\n",
    "\n",
    "        # 预测情绪\n",
    "        prediction = emotion_classifier.predict(facial)\n",
    "        prediction_result = np.argmax(prediction)\n",
    "\n",
    "        # 人脸识别框\n",
    "        cv2.rectangle(frame, (x, y), (x + w, y + h), (0, 255, 0), 2)\n",
    "        \n",
    "        cv2.putText(frame, \"Face {}\".format(i + 1), (x - 10, y - 10), cv2.FONT_HERSHEY_SIMPLEX, 0.5, (0, 255, 0), 2)\n",
    "\n",
    "        # 添加预测概率\n",
    "        cv2.putText(frame, \"----------------\",(40,60 + 180*i), cv2.FONT_HERSHEY_SIMPLEX, 0.5, (0, 255, 0), 1)\n",
    "        cv2.putText(frame, \"Emotional report : Face \" + str(i+1),(40,80 + 180*i), cv2.FONT_HERSHEY_SIMPLEX, 0.5, (0, 255, 0), 1)\n",
    "        cv2.putText(frame, \"Angry : \" + str(round(prediction[0][0],3)),(40,100 + 180*i), cv2.FONT_HERSHEY_SIMPLEX, 0.5, (0, 255, 0), 1)\n",
    "        cv2.putText(frame, \"Disgust : \" + str(round(prediction[0][1],3)),(40,120 + 180*i), cv2.FONT_HERSHEY_SIMPLEX, 0.5, (0, 255, 0), 1)\n",
    "        cv2.putText(frame, \"Fear : \" + str(round(prediction[0][2],3)),(40,140 + 180*i), cv2.FONT_HERSHEY_SIMPLEX, 0.5, (0, 255, 0), 1)\n",
    "        cv2.putText(frame, \"Happy : \" + str(round(prediction[0][3],3)),(40,160 + 180*i), cv2.FONT_HERSHEY_SIMPLEX, 0.5, (0, 255, 0), 1)\n",
    "        cv2.putText(frame, \"Sad : \" + str(round(prediction[0][4],3)),(40,180 + 180*i), cv2.FONT_HERSHEY_SIMPLEX, 0.5, (0, 255, 0), 1)\n",
    "        cv2.putText(frame, \"Surprise : \" + str(round(prediction[0][5],3)),(40,200 + 180*i), cv2.FONT_HERSHEY_SIMPLEX, 0.5, (0, 255, 0), 1)\n",
    "        cv2.putText(frame, \"Neutral : \" + str(round(prediction[0][6],3)),(40,220 + 180*i), cv2.FONT_HERSHEY_SIMPLEX, 0.5, (0, 255, 0), 1)\n",
    "\n",
    "        # 用标签注释主图像\n",
    "        if prediction_result == 0 :\n",
    "            cv2.putText(frame, \"Angry\",(x+w-10,y-10), cv2.FONT_HERSHEY_SIMPLEX, 1, (0, 255, 0), 2)\n",
    "        elif prediction_result == 1 :\n",
    "            cv2.putText(frame, \"Disgust\",(x+w-10,y-10), cv2.FONT_HERSHEY_SIMPLEX, 1, (0, 255, 0), 2)\n",
    "        elif prediction_result == 2 :\n",
    "            cv2.putText(frame, \"Fear\",(x+w-10,y-10), cv2.FONT_HERSHEY_SIMPLEX, 1, (0, 255, 0), 2)\n",
    "        elif prediction_result == 3 :\n",
    "            cv2.putText(frame, \"Happy\",(x+w-10,y-10), cv2.FONT_HERSHEY_SIMPLEX, 1, (0, 255, 0), 2)\n",
    "        elif prediction_result == 4 :\n",
    "            cv2.putText(frame, \"Sad\",(x+w-10,y-10), cv2.FONT_HERSHEY_SIMPLEX, 1, (0, 255, 0), 2)\n",
    "        elif prediction_result == 5 :\n",
    "            cv2.putText(frame, \"Surprise\",(x+w-10,y-10), cv2.FONT_HERSHEY_SIMPLEX, 1, (0, 255, 0), 2)\n",
    "        else :\n",
    "            cv2.putText(frame, \"Neutral\",(x+w-10,y-10), cv2.FONT_HERSHEY_SIMPLEX, 1, (0, 255, 0), 2)\n",
    "            \n",
    "        i = i+1\n",
    "    # 检测到的人脸数\n",
    "    cv2.putText(frame,'Number of Faces : ' + str(len(faces)),(40, 40), cv2.FONT_HERSHEY_SIMPLEX, 1, (0, 255, 0), 1)\n",
    "    \n",
    "#     cv2.namedWindow(\"Video\", 0)\n",
    "#     cv2.resizeWindow(\"Video\", 1000, 1000)  # 设置窗口大小\n",
    "    \n",
    "    cv2.imshow('Video', frame)\n",
    "    \n",
    "    # 100ms捕捉一次，按q退出捕捉\n",
    "    if cv2.waitKey(100) & 0xFF == ord('q'):\n",
    "        break\n",
    "\n",
    "# 结束后，释放捕获\n",
    "video_capture.release()\n",
    "cv2.destroyAllWindows()"
   ]
  },
  {
   "cell_type": "code",
   "execution_count": null,
   "metadata": {},
   "outputs": [],
   "source": []
  }
 ],
 "metadata": {
  "kernelspec": {
   "display_name": "Python 3",
   "language": "python",
   "name": "python3"
  },
  "language_info": {
   "codemirror_mode": {
    "name": "ipython",
    "version": 3
   },
   "file_extension": ".py",
   "mimetype": "text/x-python",
   "name": "python",
   "nbconvert_exporter": "python",
   "pygments_lexer": "ipython3",
   "version": "3.7.0"
  },
  "toc": {
   "base_numbering": 1,
   "nav_menu": {},
   "number_sections": true,
   "sideBar": true,
   "skip_h1_title": false,
   "title_cell": "Table of Contents",
   "title_sidebar": "Contents",
   "toc_cell": false,
   "toc_position": {
    "height": "calc(100% - 180px)",
    "left": "10px",
    "top": "150px",
    "width": "341.333px"
   },
   "toc_section_display": true,
   "toc_window_display": true
  },
  "varInspector": {
   "cols": {
    "lenName": 16,
    "lenType": 16,
    "lenVar": 40
   },
   "kernels_config": {
    "python": {
     "delete_cmd_postfix": "",
     "delete_cmd_prefix": "del ",
     "library": "var_list.py",
     "varRefreshCmd": "print(var_dic_list())"
    },
    "r": {
     "delete_cmd_postfix": ") ",
     "delete_cmd_prefix": "rm(",
     "library": "var_list.r",
     "varRefreshCmd": "cat(var_dic_list()) "
    }
   },
   "types_to_exclude": [
    "module",
    "function",
    "builtin_function_or_method",
    "instance",
    "_Feature"
   ],
   "window_display": false
  }
 },
 "nbformat": 4,
 "nbformat_minor": 2
}
